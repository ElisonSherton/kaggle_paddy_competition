{
 "cells": [
  {
   "cell_type": "code",
   "execution_count": 1,
   "id": "a69acb77-3d59-44ec-bded-ecae64a6a8d2",
   "metadata": {},
   "outputs": [],
   "source": [
    "from fastai.vision.all import *\n",
    "import fiftyone as fo"
   ]
  },
  {
   "cell_type": "code",
   "execution_count": 5,
   "id": "4b190853-c3f3-4fb3-a4ea-44e1353b3d96",
   "metadata": {},
   "outputs": [],
   "source": [
    "BASE_TRAIN_IMAGES_PATH = Path(\"../data/train_images/\")\n",
    "BASE_TEST_IMAGES_PATH = Path(\"../data/test_images/\")\n",
    "DATASET_NAME = \"paddy-dataset\"\n",
    "TRAIN_DF_PATH = \"../data/train.csv\"\n",
    "EXISTS = True if DATASET_NAME in fo.list_datasets() else False"
   ]
  },
  {
   "cell_type": "code",
   "execution_count": 6,
   "id": "b0431585-f5ca-4d4c-8bda-8b0088ded569",
   "metadata": {},
   "outputs": [
    {
     "name": "stdout",
     "output_type": "stream",
     "text": [
      "Created a dataset\n",
      "Name:        paddy-dataset\n",
      "Media type:  None\n",
      "Num samples: 0\n",
      "Persistent:  False\n",
      "Tags:        []\n",
      "Sample fields:\n",
      "    id:       fiftyone.core.fields.ObjectIdField\n",
      "    filepath: fiftyone.core.fields.StringField\n",
      "    tags:     fiftyone.core.fields.ListField(fiftyone.core.fields.StringField)\n",
      "    metadata: fiftyone.core.fields.EmbeddedDocumentField(fiftyone.core.metadata.Metadata)\n"
     ]
    },
    {
     "data": {
      "text/html": [
       "<div>\n",
       "<style scoped>\n",
       "    .dataframe tbody tr th:only-of-type {\n",
       "        vertical-align: middle;\n",
       "    }\n",
       "\n",
       "    .dataframe tbody tr th {\n",
       "        vertical-align: top;\n",
       "    }\n",
       "\n",
       "    .dataframe thead th {\n",
       "        text-align: right;\n",
       "    }\n",
       "</style>\n",
       "<table border=\"1\" class=\"dataframe\">\n",
       "  <thead>\n",
       "    <tr style=\"text-align: right;\">\n",
       "      <th></th>\n",
       "      <th>image_id</th>\n",
       "      <th>label</th>\n",
       "      <th>variety</th>\n",
       "      <th>age</th>\n",
       "    </tr>\n",
       "  </thead>\n",
       "  <tbody>\n",
       "    <tr>\n",
       "      <th>0</th>\n",
       "      <td>100330.jpg</td>\n",
       "      <td>bacterial_leaf_blight</td>\n",
       "      <td>ADT45</td>\n",
       "      <td>45</td>\n",
       "    </tr>\n",
       "    <tr>\n",
       "      <th>1</th>\n",
       "      <td>100365.jpg</td>\n",
       "      <td>bacterial_leaf_blight</td>\n",
       "      <td>ADT45</td>\n",
       "      <td>45</td>\n",
       "    </tr>\n",
       "  </tbody>\n",
       "</table>\n",
       "</div>"
      ],
      "text/plain": [
       "     image_id                  label variety  age\n",
       "0  100330.jpg  bacterial_leaf_blight   ADT45   45\n",
       "1  100365.jpg  bacterial_leaf_blight   ADT45   45"
      ]
     },
     "execution_count": 6,
     "metadata": {},
     "output_type": "execute_result"
    }
   ],
   "source": [
    "# Create an empty dataset\n",
    "dataset = fo.Dataset(DATASET_NAME, _create = not EXISTS)\n",
    "print(f\"Created a dataset\\n{dataset}\")\n",
    "\n",
    "# Read the annotatinos file\n",
    "train_df = pd.read_csv(TRAIN_DF_PATH)\n",
    "train_df.head(2)"
   ]
  },
  {
   "cell_type": "code",
   "execution_count": 8,
   "id": "1875b047-0199-46fd-b077-2e38e65c5bea",
   "metadata": {},
   "outputs": [
    {
     "data": {
      "text/html": [
       "\n",
       "<style>\n",
       "    /* Turns off some styling */\n",
       "    progress {\n",
       "        /* gets rid of default border in Firefox and Opera. */\n",
       "        border: none;\n",
       "        /* Needs to be in here for Safari polyfill so background images work as expected. */\n",
       "        background-size: auto;\n",
       "    }\n",
       "    progress:not([value]), progress:not([value])::-webkit-progress-bar {\n",
       "        background: repeating-linear-gradient(45deg, #7e7e7e, #7e7e7e 10px, #5c5c5c 10px, #5c5c5c 20px);\n",
       "    }\n",
       "    .progress-bar-interrupted, .progress-bar-interrupted::-webkit-progress-bar {\n",
       "        background: #F44336;\n",
       "    }\n",
       "</style>\n"
      ],
      "text/plain": [
       "<IPython.core.display.HTML object>"
      ]
     },
     "metadata": {},
     "output_type": "display_data"
    },
    {
     "data": {
      "text/html": [
       "\n",
       "    <div>\n",
       "      <progress value='10407' class='' max='10407' style='width:300px; height:20px; vertical-align: middle;'></progress>\n",
       "      100.00% [10407/10407 00:08&lt;00:00]\n",
       "    </div>\n",
       "    "
      ],
      "text/plain": [
       "<IPython.core.display.HTML object>"
      ]
     },
     "metadata": {},
     "output_type": "display_data"
    },
    {
     "data": {
      "text/html": [
       "\n",
       "<style>\n",
       "    /* Turns off some styling */\n",
       "    progress {\n",
       "        /* gets rid of default border in Firefox and Opera. */\n",
       "        border: none;\n",
       "        /* Needs to be in here for Safari polyfill so background images work as expected. */\n",
       "        background-size: auto;\n",
       "    }\n",
       "    progress:not([value]), progress:not([value])::-webkit-progress-bar {\n",
       "        background: repeating-linear-gradient(45deg, #7e7e7e, #7e7e7e 10px, #5c5c5c 10px, #5c5c5c 20px);\n",
       "    }\n",
       "    .progress-bar-interrupted, .progress-bar-interrupted::-webkit-progress-bar {\n",
       "        background: #F44336;\n",
       "    }\n",
       "</style>\n"
      ],
      "text/plain": [
       "<IPython.core.display.HTML object>"
      ]
     },
     "metadata": {},
     "output_type": "display_data"
    },
    {
     "data": {
      "text/html": [
       "\n",
       "    <div>\n",
       "      <progress value='3469' class='' max='3469' style='width:300px; height:20px; vertical-align: middle;'></progress>\n",
       "      100.00% [3469/3469 00:02&lt;00:00]\n",
       "    </div>\n",
       "    "
      ],
      "text/plain": [
       "<IPython.core.display.HTML object>"
      ]
     },
     "metadata": {},
     "output_type": "display_data"
    },
    {
     "name": "stdout",
     "output_type": "stream",
     "text": [
      "Computing image metadata...\n",
      " 100% |█████████████| 13876/13876 [21.0s elapsed, 0s remaining, 726.4 samples/s]      \n"
     ]
    }
   ],
   "source": [
    "# If the dataset does not exist already, then populate the Dataset with train and test images\n",
    "if not EXISTS:\n",
    "    for row in progress_bar(list(train_df.itertuples())):\n",
    "        \n",
    "        # Create a sample\n",
    "        sample = fo.Sample(filepath = BASE_TRAIN_IMAGES_PATH/row[2]/row[1])\n",
    "        \n",
    "        # Assign the fields to our sample\n",
    "        sample[\"variety\"] = row[3]\n",
    "        sample[\"age\"] = row[4]\n",
    "        sample[\"dset_type\"] = \"train\"\n",
    "        \n",
    "        # Assign the ground truth label to our sample\n",
    "        sample[\"ground_truth\"] = fo.Classification(label = row[2])\n",
    "        \n",
    "        # Add this sample to our dataset\n",
    "        dataset.add_sample(sample)\n",
    "        \n",
    "    \n",
    "    test_images = [x for x in BASE_TEST_IMAGES_PATH.glob(\"**/*\") if x.is_file()]\n",
    "    for img in progress_bar(test_images):\n",
    "        \n",
    "        # Create a sample\n",
    "        sample = fo.Sample(filepath = img)\n",
    "        \n",
    "        # Assign the dset type for this sample\n",
    "        sample[\"dset_type\"] = \"test\"\n",
    "        \n",
    "        # Add the sample to our dataset\n",
    "        dataset.add_sample(sample)\n",
    "        \n",
    "\n",
    "    # Compute the metadata on the dataset\n",
    "    dataset.compute_metadata(overwrite = True)"
   ]
  },
  {
   "cell_type": "code",
   "execution_count": 10,
   "id": "901cb4af-3e35-48ae-b4e1-6a1052c01952",
   "metadata": {},
   "outputs": [
    {
     "data": {
      "text/html": [
       "\n",
       "        <iframe\n",
       "            width=\"100%\"\n",
       "            height=\"800\"\n",
       "            src=\"http://localhost:8085/?context=ipython&subscription=60fb2acf-9bf6-4d46-91df-5e9e4ee8a4f0\"\n",
       "            frameborder=\"0\"\n",
       "            allowfullscreen\n",
       "            \n",
       "        ></iframe>\n",
       "        "
      ],
      "text/plain": [
       "<IPython.lib.display.IFrame at 0x7fb436e5c910>"
      ]
     },
     "metadata": {},
     "output_type": "display_data"
    }
   ],
   "source": [
    "session = fo.launch_app(dataset, port = 8085)"
   ]
  }
 ],
 "metadata": {
  "kernelspec": {
   "display_name": "Python 3 (ipykernel)",
   "language": "python",
   "name": "python3"
  },
  "language_info": {
   "codemirror_mode": {
    "name": "ipython",
    "version": 3
   },
   "file_extension": ".py",
   "mimetype": "text/x-python",
   "name": "python",
   "nbconvert_exporter": "python",
   "pygments_lexer": "ipython3",
   "version": "3.8.13"
  }
 },
 "nbformat": 4,
 "nbformat_minor": 5
}
